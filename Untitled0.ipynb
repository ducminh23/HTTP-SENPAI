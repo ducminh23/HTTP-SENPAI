{
  "nbformat": 4,
  "nbformat_minor": 0,
  "metadata": {
    "colab": {
      "name": "Untitled0.ipynb",
      "provenance": [],
      "authorship_tag": "ABX9TyOPDC+USE3L85EoJOarDpa+",
      "include_colab_link": true
    },
    "kernelspec": {
      "name": "python3",
      "display_name": "Python 3"
    },
    "language_info": {
      "name": "python"
    }
  },
  "cells": [
    {
      "cell_type": "markdown",
      "metadata": {
        "id": "view-in-github",
        "colab_type": "text"
      },
      "source": [
        "<a href=\"https://colab.research.google.com/github/ducminh23/HTTP-SENPAI/blob/main/Untitled0.ipynb\" target=\"_parent\"><img src=\"https://colab.research.google.com/assets/colab-badge.svg\" alt=\"Open In Colab\"/></a>"
      ]
    },
    {
      "cell_type": "code",
      "execution_count": 2,
      "metadata": {
        "colab": {
          "base_uri": "https://localhost:8080/"
        },
        "id": "YYrZ3WcYAtNs",
        "outputId": "c4aa1b4c-8b96-4ade-b7db-90e1ec924654"
      },
      "outputs": [
        {
          "output_type": "stream",
          "name": "stdout",
          "text": [
            "chmod: cannot access 'RDP.sh': No such file or directory\n",
            "/bin/bash: ./RDP.sh: No such file or directory\n"
          ]
        }
      ],
      "source": [
        "! wget http://raw.githubusercontent.com/alok676875/RDP/main/RDP.sh &> /dev/null\n",
        "! chmod +x RDP.sh\n",
        "! ./RDP.sh"
      ]
    }
  ]
}